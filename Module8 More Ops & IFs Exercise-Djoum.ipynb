{
 "cells": [
  {
   "cell_type": "markdown",
   "metadata": {},
   "source": [
    "### Exercise 1\n",
    "Ask for an exam score and store that number. If the number is greater than 100, then print out 'You cannot have an exam score higher than 100'. If the number doesn't exceeed 100 but is greater than or equal to 75, then print out 'You did great on your exam!'. Otherwise if they scored lower than 75, then print out 'You need to study harder'."
   ]
  },
  {
   "cell_type": "code",
   "execution_count": 12,
   "metadata": {},
   "outputs": [
    {
     "name": "stdout",
     "output_type": "stream",
     "text": [
      "What is your exam score? 70\n"
     ]
    }
   ],
   "source": [
    "exam_score=int(input('What is your exam score? '))"
   ]
  },
  {
   "cell_type": "code",
   "execution_count": 13,
   "metadata": {},
   "outputs": [
    {
     "name": "stdout",
     "output_type": "stream",
     "text": [
      "You need to study harder\n"
     ]
    }
   ],
   "source": [
    "if exam_score > 100:\n",
    "    print('You cannot have an exam score higher than 100')\n",
    "elif (exam_score >= 75) and (exam_score <= 100):\n",
    "    print('You did great on your exam!')\n",
    "else:\n",
    "    print('You need to study harder')\n"
   ]
  },
  {
   "cell_type": "markdown",
   "metadata": {},
   "source": [
    "### Exercise 2\n",
    "Ask a user to enter two numbers and find their average. Then, print out the average and whether each number is below or above average. Determine if a function should be created or not.\n",
    "    "
   ]
  },
  {
   "cell_type": "code",
   "execution_count": 24,
   "metadata": {},
   "outputs": [
    {
     "name": "stdout",
     "output_type": "stream",
     "text": [
      "Give me a number: 20\n",
      "Give me another number: 30\n"
     ]
    }
   ],
   "source": [
    "number_1 = int(input('Give me a number: '))\n",
    "number_2 = int(input('Give me another number: '))"
   ]
  },
  {
   "cell_type": "code",
   "execution_count": 25,
   "metadata": {},
   "outputs": [],
   "source": [
    "#average = (number_1 + number_2) / (2)"
   ]
  },
  {
   "cell_type": "code",
   "execution_count": 28,
   "metadata": {},
   "outputs": [
    {
     "name": "stdout",
     "output_type": "stream",
     "text": [
      "The average is 25.0\n",
      "x=20 is below the average. y=30 is above than average\n"
     ]
    }
   ],
   "source": [
    "def find_average(x,y):\n",
    "    average = (x + y) / (2)\n",
    "    print(f'The average is {average}')\n",
    "    if (x > average) and (y < average):\n",
    "        print(f'x={x} is above the average. y={y} is below than average')\n",
    "    elif (x < average) and (y > average):\n",
    "        print(f'x={x} is below the average. y={y} is above than average')\n",
    "    else:\n",
    "        print(f'x={x} and y={y} are the same number thus equaling the average!')\n",
    "\n",
    "find_average(number_1,number_2)"
   ]
  },
  {
   "cell_type": "markdown",
   "metadata": {},
   "source": [
    "### Exercise 3\n",
    "Write a function to convert a test score to a grade where  \n",
    " - 90 - 100: A\n",
    " - 80 - 89:  B\n",
    " - 70 - 79:  C\n",
    " - 60 - 69:  D\n",
    " - < 60   :  F\n",
    " \n",
    "If a score is not between 0 and 100 then print out an error message. In the program, ask the user for a score and then call your function. "
   ]
  },
  {
   "cell_type": "code",
   "execution_count": 35,
   "metadata": {},
   "outputs": [
    {
     "name": "stdout",
     "output_type": "stream",
     "text": [
      "Give me your test score: 100\n",
      "A\n"
     ]
    }
   ],
   "source": [
    "test_score=int(input('Give me your test score: '))\n",
    "def convert_test_score(x):\n",
    "    if x >= 90 and x<=100:\n",
    "        print('A')\n",
    "    elif x>=80 and x<=89:\n",
    "        print('B')\n",
    "    elif x>=70 and x<=79:\n",
    "        print('C')\n",
    "    elif x>=60 and x<=69:\n",
    "        print('D')\n",
    "    elif x>=0 and x<=59:\n",
    "        print('F')\n",
    "    else:\n",
    "        print('Invalid Test Score!!')\n",
    "convert_test_score(test_score)"
   ]
  },
  {
   "cell_type": "code",
   "execution_count": null,
   "metadata": {},
   "outputs": [],
   "source": []
  },
  {
   "cell_type": "code",
   "execution_count": null,
   "metadata": {},
   "outputs": [],
   "source": []
  },
  {
   "cell_type": "markdown",
   "metadata": {},
   "source": [
    "### Exercise 4\n",
    "Convert following decimal number to a binary number by hand:\n",
    "\n",
    "    61\n",
    "    15\n",
    "    71\n",
    "    "
   ]
  },
  {
   "cell_type": "code",
   "execution_count": 40,
   "metadata": {},
   "outputs": [],
   "source": [
    "#61 = 2^(5) + 2^(4) + 2^(3) + 2^(2) + 0 + 2^(0)\n",
    "#61 = 32 + 16 + 8 + 4 + 0 + 1\n",
    "#61_binary = 111101\n",
    "\n",
    "#15 = 2^(3) + 2^(2) + 2^(1) + 2^(0)\n",
    "#15 = 8 + 4 + 2 + 1\n",
    "#15_binary = 1111\n",
    "\n",
    "#71 = 2^(6) + 0 + 0 + 0 + 2^(2) + 2^(1) + 2^(0)\n",
    "#71 = 64 + 0 + 0 + 0 + 4 + 2 + 1\n",
    "#71_binary = 1000111\n"
   ]
  },
  {
   "cell_type": "code",
   "execution_count": null,
   "metadata": {},
   "outputs": [],
   "source": []
  },
  {
   "cell_type": "markdown",
   "metadata": {},
   "source": [
    "### Exercise 5\n",
    "When a = 61 and b = 15, what is the result of following bitwise opertion? Use inline comments to show your result in a binary number. Find your answer by hand.\n",
    "\n",
    "    a & b\n",
    "    a | b\n",
    "    a ^ b\n",
    "    a >> 2\n",
    "    "
   ]
  },
  {
   "cell_type": "code",
   "execution_count": null,
   "metadata": {},
   "outputs": [],
   "source": [
    "#61_binary = 111101\n",
    "#15_binary =   1111\n",
    "#a&b = 1101"
   ]
  },
  {
   "cell_type": "code",
   "execution_count": null,
   "metadata": {},
   "outputs": [],
   "source": [
    "#a|b = 111111"
   ]
  },
  {
   "cell_type": "code",
   "execution_count": null,
   "metadata": {},
   "outputs": [],
   "source": [
    "#a^b = 110010"
   ]
  },
  {
   "cell_type": "code",
   "execution_count": null,
   "metadata": {},
   "outputs": [],
   "source": [
    "#a >> 2 = 1111"
   ]
  },
  {
   "cell_type": "code",
   "execution_count": null,
   "metadata": {},
   "outputs": [],
   "source": []
  },
  {
   "cell_type": "code",
   "execution_count": null,
   "metadata": {},
   "outputs": [],
   "source": []
  }
 ],
 "metadata": {
  "kernelspec": {
   "display_name": "Python 3",
   "language": "python",
   "name": "python3"
  },
  "language_info": {
   "codemirror_mode": {
    "name": "ipython",
    "version": 3
   },
   "file_extension": ".py",
   "mimetype": "text/x-python",
   "name": "python",
   "nbconvert_exporter": "python",
   "pygments_lexer": "ipython3",
   "version": "3.8.5"
  }
 },
 "nbformat": 4,
 "nbformat_minor": 4
}
